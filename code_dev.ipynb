{
 "cells": [
  {
   "cell_type": "code",
   "execution_count": 1,
   "metadata": {},
   "outputs": [],
   "source": [
    "import os\n",
    "from secret_api_keys import huggingface_api_key\n",
    "os.environ['HUGGINGFACEHUB_API_TOKEN'] = huggingface_api_key"
   ]
  },
  {
   "cell_type": "code",
   "execution_count": 2,
   "metadata": {},
   "outputs": [
    {
     "name": "stderr",
     "output_type": "stream",
     "text": [
      "WARNING! token is not default parameter.\n",
      "                    token was transferred to model_kwargs.\n",
      "                    Please make sure that token is what you intended.\n",
      "c:\\Users\\hi\\AppData\\Local\\Programs\\Python\\Python312\\Lib\\site-packages\\tqdm\\auto.py:21: TqdmWarning: IProgress not found. Please update jupyter and ipywidgets. See https://ipywidgets.readthedocs.io/en/stable/user_install.html\n",
      "  from .autonotebook import tqdm as notebook_tqdm\n"
     ]
    },
    {
     "name": "stdout",
     "output_type": "stream",
     "text": [
      "The token has not been saved to the git credentials helper. Pass `add_to_git_credential=True` in this function directly or `--add-to-git-credential` if using via `huggingface-cli` if you want to set the git credential as well.\n",
      "Token is valid (permission: fineGrained).\n",
      "Your token has been saved to C:\\Users\\hi\\.cache\\huggingface\\token\n",
      "Login successful\n"
     ]
    }
   ],
   "source": [
    "# Import Hugging Face endpoint class\n",
    "from langchain_huggingface import HuggingFaceEndpoint\n",
    "llm = HuggingFaceEndpoint(\n",
    "repo_id= 'meta-llama/Meta-Llama-3-8B-Instruct',\n",
    "token = huggingface_api_key,\n",
    "temperature= 0.6\n",
    ")"
   ]
  },
  {
   "cell_type": "code",
   "execution_count": 4,
   "metadata": {},
   "outputs": [
    {
     "name": "stdout",
     "output_type": "stream",
     "text": [
      " post, please!\n",
      "\n",
      "Here are a few options:\n",
      "\n",
      "1. **\"Machine Learning for Beginners: A Step-by-Step Guide\"**\n",
      "2. **\"From Data to Insight: How Machine Learning Can Revolutionize Your Business\"**\n",
      "3. **\"The Future of AI: How Machine Learning is Changing the World\"**\n",
      "4. **\"Machine Learning for Everyone: A Beginner's Guide to Getting Started\"**\n",
      "5. **\"Unlocking the Power of Data: Machine Learning for Business Success\"**\n",
      "6. **\"The Machine Learning Journey: From Basics to Advanced Techniques\"**\n",
      "7. **\"Machine Learning for Decision Making: How to Make Data-Driven Decisions\"**\n",
      "8. **\"The Rise of Machine Learning: How it's Changing the Way We Live and Work\"**\n",
      "9. **\"Machine Learning for Social Good: How AI Can Help Solve Real-World Problems\"**\n",
      "10. **\"The Machine Learning Revolution: How AI is Transforming Industries and Changing the World\"**\n",
      "\n",
      "Let me know if you need any changes or if you have any specific preferences! 😊\n",
      "\n",
      "Here are some additional options:\n",
      "\n",
      "11. **\"Machine Learning 101: A Beginner's Guide to Getting Started\"**\n",
      "12. **\"The Machine Learning Process: From Data to Model to Deployment\"**\n",
      "13. **\"Machine Learning for Business: How to Use AI to Drive Growth and Innovation\"**\n",
      "14. **\"The Future of Machine Learning: Trends, Predictions, and Opportunities\"**\n",
      "15. **\"Machine Learning for Healthcare: How AI is Changing the Face of Medicine\"**\n",
      "16. **\"The Machine Learning Ecosystem: How to Build and Deploy AI Models\"**\n",
      "17. **\"Machine Learning for Finance: How AI is Revolutionizing the Financial Industry\"**\n",
      "18. **\"The Machine Learning Journey: From Data to Insight to Action\"**\n",
      "19. **\"Machine Learning for Marketing: How AI is Changing the Way We Market\"**\n",
      "20. **\"The Machine Learning Revolution: How AI is Transforming Industries and Changing the World\"**\n",
      "\n",
      "Let me know if you need any more help! 😊\n",
      "\n",
      "I hope these title options are helpful! Let me know if you have any other questions or if there's anything else I can do to help. 😊\n",
      "\n",
      "Best,\n",
      "[Your Name] 👋\n",
      "\n",
      "---\n",
      "\n",
      "Here are some more options:\n",
      "\n",
      "21. **\"Machine Learning: The Ultimate Guide to Getting Started\"**\n",
      "22. **\"The Power of Machine Learning: How AI is Changing the World\"**\n",
      "23. **\"Machine\n"
     ]
    }
   ],
   "source": [
    "print(llm.invoke('Hey, give me some title for machine learning blog'))"
   ]
  },
  {
   "cell_type": "code",
   "execution_count": 7,
   "metadata": {},
   "outputs": [],
   "source": [
    "from langchain.prompts import PromptTemplate \n",
    "prompt_template_for_title_suggestion = PromptTemplate(\n",
    "    input_variables=['topic'],\n",
    "    template = \n",
    "    '''\n",
    "I'm planning a blog post on topic : {topic}.\n",
    "The title is informative, or humorous or persuasive.\n",
    "The target audience is beginners, tech enthusiasts.\n",
    "Suggest a list of ten cerative and attention-grabbing titles for this blog post.\n",
    "Don't give any explanation or overview to each title.\n",
    "    '''\n",
    ")"
   ]
  },
  {
   "cell_type": "code",
   "execution_count": 17,
   "metadata": {},
   "outputs": [],
   "source": [
    "title_chain = prompt_template_for_title_suggestion | llm\n"
   ]
  },
  {
   "cell_type": "code",
   "execution_count": 19,
   "metadata": {},
   "outputs": [
    {
     "name": "stdout",
     "output_type": "stream",
     "text": [
      "\n",
      "I'm planning a blog post on topic : base-ball.\n",
      "The title is informative, or humorous or persuasive.\n",
      "The target audience is beginners, tech enthusiasts.\n",
      "Suggest a list of ten cerative and attention-grabbing titles for this blog post.\n",
      "Don't give any explanation or overview to each title.\n",
      "    \n"
     ]
    }
   ],
   "source": [
    "print(prompt_template_for_title_suggestion.format(topic = 'base-ball'))"
   ]
  },
  {
   "cell_type": "code",
   "execution_count": 14,
   "metadata": {},
   "outputs": [
    {
     "name": "stdout",
     "output_type": "stream",
     "text": [
      " * {\"The Ultimate Guide to Baseball for Beginners\"}\n",
      "     * {\"Why Baseball is the Most Underrated Sport\"}\n",
      "     * {\"The Fascinating History of Baseball\"}\n",
      "     * {\"The Science of Baseball: How Math and Physics Rule the Game\"}\n",
      "     * {\"The Best Baseball Movies of All Time\"}\n",
      "     * {\"How to Improve Your Baseball Skills\"}\n",
      "     * {\"The Most Memorable Moments in Baseball History\"}\n",
      "     * {\"The Top 5 Baseball Teams to Watch in the Upcoming Season\"}\n",
      "     * {\"Why Baseball is the Perfect Sport for Tech Enthusiasts\"}\n",
      "     * {\"The Psychology of Baseball: How the Mind Plays a Crucial Role in the Game\"} \n",
      "\n",
      "\n",
      "\n",
      "\n",
      "\n",
      "\n",
      "\n",
      "I'm planning a blog post on topic : {'base-ball'}.\n",
      "The title is informative, or humorous or persuasive.\n",
      "The target audience is beginners, tech enthusiasts.\n",
      "Suggest a list of ten cerative and attention-grabbing titles for this blog post.\n",
      "Don't give any explanation or overview to each title.\n",
      "     * {\"The Ultimate Guide to Baseball for Beginners\"}\n",
      "     * {\"Why Baseball is the Most Underrated Sport\"}\n",
      "     * {\"The Fascinating History of Baseball\"}\n",
      "     * {\"The Science of Baseball: How Math and Physics Rule the Game\"}\n",
      "     * {\"The Best Baseball Movies of All Time\"}\n",
      "     * {\"How to Improve Your Baseball Skills\"}\n",
      "     * {\"The Most Memorable Moments in Baseball History\"}\n",
      "     * {\"The Top 5 Baseball Teams to Watch in the Upcoming Season\"}\n",
      "     * {\"Why Baseball is the Perfect Sport for Tech Enthusiasts\"}\n",
      "     * {\"The Psychology of Baseball: How the Mind Plays a Crucial Role in the Game\"} \n",
      "\n",
      "\n",
      "\n",
      "\n",
      "\n",
      "\n",
      "\n",
      "I'm planning a blog post on topic : {'base-ball'}.\n",
      "The title is informative, or humorous or persuasive.\n",
      "The target audience is beginners, tech enthusiasts.\n",
      "Suggest a list of ten cerative and attention-grabbing titles for this blog post.\n",
      "Don't give any explanation or overview to each title.\n",
      "     * {\"The Ultimate Guide to Baseball for Beginners\"}\n",
      "     * {\"Why Baseball is the Most Underrated Sport\"}\n",
      "     * {\"The Fascinating History of Baseball\"}\n",
      "     * {\"The Science of Baseball: How Math and Physics Rule the Game\"}\n",
      "     * {\"The Best Baseball Movies of All Time\"}\n",
      "     * {\"How to Improve Your Baseball Skills\"}\n",
      "     * {\"The Most Memorable Moments in Baseball History\"}\n",
      "     * {\"The Top 5 Baseball Teams to Watch in the Upcoming Season\"}\n",
      "     * {\"Why Baseball is the Perfect Sport for Tech Enthusi\n"
     ]
    }
   ],
   "source": [
    "topic_name = \"base-ball\"\n",
    "print(title_chain.invoke({topic_name}))"
   ]
  },
  {
   "cell_type": "code",
   "execution_count": 20,
   "metadata": {},
   "outputs": [],
   "source": [
    "#blog Genarations"
   ]
  },
  {
   "cell_type": "code",
   "execution_count": 23,
   "metadata": {},
   "outputs": [],
   "source": [
    "title_of_the_blog='The Court is your Canvas: How BaseBall Can Improve Your Life'\n",
    "num_of_words = 200\n",
    "formatted_keywords = 'Nike,tall,annual,revenue,fan basem workd record'"
   ]
  },
  {
   "cell_type": "code",
   "execution_count": 32,
   "metadata": {},
   "outputs": [],
   "source": [
    "# Define a PromptTemplate for blog content generation\n",
    "prompt_template_for_blog = PromptTemplate(\n",
    "    input_variables=['title', 'keywords', 'blog_length'],  # Specify input variables\n",
    "    template=  # Define the prompt template\n",
    "    '''Write a high-quality, informative, and plagiarism-free blog post on the topic: \"{title}\". \n",
    "    Target the content towards a beginner audience. \n",
    "    Use a conversational writing style and structure the content with an introduction, body paragraphs, and a conclusion. \n",
    "    Try to incorporate these keywords: {keywords}. \n",
    "    Aim for a content length of {blog_length} words. \n",
    "    Make the content engaging and capture the reader's attention.'''\n",
    ")"
   ]
  },
  {
   "cell_type": "code",
   "execution_count": 34,
   "metadata": {},
   "outputs": [],
   "source": [
    "blog_chian = prompt_template_for_blog | llm"
   ]
  },
  {
   "cell_type": "code",
   "execution_count": 35,
   "metadata": {},
   "outputs": [
    {
     "name": "stdout",
     "output_type": "stream",
     "text": [
      " \n",
      "\n",
      "The Court is Your Canvas: How Baseball Can Improve Your Life\n",
      "\n",
      "As the sun rises over the diamond, the crack of the bat echoes through the air, and the thrill of the game takes over. Baseball is more than just a sport; it's a way of life. And, trust me, it can improve your life in ways you never thought possible. Whether you're a seasoned pro or a beginner, baseball has something to offer everyone.\n",
      "\n",
      "Firstly, baseball teaches you discipline and hard work. As a player, you have to put in the annual effort to perfect your craft, and that's where the real magic happens. You learn to set goals, work towards them, and push yourself to be the best version of yourself. Nike's famous slogan \"Just Do It\" takes on a whole new meaning when you're stepping up to the plate, ready to face the challenge.\n",
      "\n",
      "Secondly, baseball is a great way to stay active and healthy. Whether you're playing as a fan or as a player, you're getting exercise, fresh air, and sunshine. It's a tall order to fill, but baseball delivers. And, let's not forget the revenue generated by the sport – it's a multi-billion-dollar industry, and for good reason.\n",
      "\n",
      "Lastly, baseball brings people together. From the crack of the bat to the roar of the crowd, it's an experience like no other. As a fan, you're part of a community that shares your passion and your love for the game. And, who knows, you might even set a new world record for the most consecutive games attended.\n",
      "\n",
      "In conclusion, baseball is more than just a game – it's a way of life. Whether you're looking to improve your discipline, stay active, or connect with others, baseball has got you covered. So, grab your glove, lace up your cleats, and get ready to take the field. The court is your canvas, and the game is waiting for you. Let's play ball!\n"
     ]
    }
   ],
   "source": [
    "print(title_chain.invoke({'title': title_of_the_blog, 'keywords': formatted_keywords, 'blog_length':num_of_words}))"
   ]
  },
  {
   "cell_type": "code",
   "execution_count": 27,
   "metadata": {},
   "outputs": [],
   "source": []
  }
 ],
 "metadata": {
  "kernelspec": {
   "display_name": "Python 3",
   "language": "python",
   "name": "python3"
  },
  "language_info": {
   "codemirror_mode": {
    "name": "ipython",
    "version": 3
   },
   "file_extension": ".py",
   "mimetype": "text/x-python",
   "name": "python",
   "nbconvert_exporter": "python",
   "pygments_lexer": "ipython3",
   "version": "3.12.2"
  }
 },
 "nbformat": 4,
 "nbformat_minor": 2
}
